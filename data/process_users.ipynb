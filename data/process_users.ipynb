{
 "cells": [
  {
   "cell_type": "code",
   "execution_count": 1,
   "id": "d78db57c-03f7-4994-b699-24420ee19d1e",
   "metadata": {
    "execution": {
     "iopub.execute_input": "2023-10-27T08:42:25.538086Z",
     "iopub.status.busy": "2023-10-27T08:42:25.537834Z",
     "iopub.status.idle": "2023-10-27T08:42:26.515116Z",
     "shell.execute_reply": "2023-10-27T08:42:26.514209Z",
     "shell.execute_reply.started": "2023-10-27T08:42:25.538060Z"
    },
    "tags": []
   },
   "outputs": [],
   "source": [
    "import pandas as pd  \n",
    "import random\n",
    "import numpy as np"
   ]
  },
  {
   "cell_type": "code",
   "execution_count": 2,
   "id": "2625a8d1-2d25-49f1-a3e3-f982cf75b65b",
   "metadata": {
    "execution": {
     "iopub.execute_input": "2023-10-27T08:42:26.516526Z",
     "iopub.status.busy": "2023-10-27T08:42:26.516130Z",
     "iopub.status.idle": "2023-10-27T08:42:26.528011Z",
     "shell.execute_reply": "2023-10-27T08:42:26.527049Z",
     "shell.execute_reply.started": "2023-10-27T08:42:26.516492Z"
    },
    "tags": []
   },
   "outputs": [],
   "source": [
    "# 读取CSV文件  \n",
    "data = pd.read_csv('item.csv')  \n",
    "# 读取traits列  \n",
    "genre = data['genre']  \n",
    "\n",
    "genre_set = set()\n",
    "for i in genre:\n",
    "    for j in i.split(\"|\"):\n",
    "        genre_set.add(j)"
   ]
  },
  {
   "cell_type": "code",
   "execution_count": 3,
   "id": "aee6bcb7-c626-4e8b-9276-b4f589a548cc",
   "metadata": {
    "execution": {
     "iopub.execute_input": "2023-10-27T08:42:26.529272Z",
     "iopub.status.busy": "2023-10-27T08:42:26.529010Z",
     "iopub.status.idle": "2023-10-27T08:42:26.541035Z",
     "shell.execute_reply": "2023-10-27T08:42:26.540298Z",
     "shell.execute_reply.started": "2023-10-27T08:42:26.529231Z"
    },
    "tags": []
   },
   "outputs": [],
   "source": [
    "# print(genre_set)\n",
    "genre_set = list(genre_set)"
   ]
  },
  {
   "cell_type": "code",
   "execution_count": 4,
   "id": "a5863cf5-cccb-4e34-af22-8e942d019bfe",
   "metadata": {
    "execution": {
     "iopub.execute_input": "2023-10-27T08:42:26.543116Z",
     "iopub.status.busy": "2023-10-27T08:42:26.542874Z",
     "iopub.status.idle": "2023-10-27T08:42:26.567446Z",
     "shell.execute_reply": "2023-10-27T08:42:26.566646Z",
     "shell.execute_reply.started": "2023-10-27T08:42:26.543092Z"
    },
    "tags": []
   },
   "outputs": [],
   "source": [
    "new_data = pd.read_csv('old_user_1000.csv')  "
   ]
  },
  {
   "cell_type": "code",
   "execution_count": 5,
   "id": "14a9cccc-8510-4c22-8e31-59c7106e9a24",
   "metadata": {
    "execution": {
     "iopub.execute_input": "2023-10-27T08:42:26.573109Z",
     "iopub.status.busy": "2023-10-27T08:42:26.572857Z",
     "iopub.status.idle": "2023-10-27T08:42:27.059657Z",
     "shell.execute_reply": "2023-10-27T08:42:27.058605Z",
     "shell.execute_reply.started": "2023-10-27T08:42:26.573085Z"
    },
    "tags": []
   },
   "outputs": [],
   "source": [
    "new_traits = []\n",
    "for i in range(len(new_data)):\n",
    "    # 随机选择1-5个字符串  \n",
    "    num_strings = np.random.randint(1, 6)  \n",
    "    selected_strings = random.sample(genre_set, num_strings)  \n",
    "\n",
    "    # 将选择的字符串以逗号拼接  \n",
    "    result = ','.join(selected_strings)  \n",
    "    new_traits.append(result)\n",
    "new_data[\"interest\"] = new_traits\n",
    "new_data.to_csv('user_1000.csv', index=False)"
   ]
  },
  {
   "cell_type": "code",
   "execution_count": null,
   "id": "2a3e92c8-f77e-490d-8f3b-5ddf5f6b9bdc",
   "metadata": {},
   "outputs": [],
   "source": []
  }
 ],
 "metadata": {
  "kernelspec": {
   "display_name": "main",
   "language": "python",
   "name": "main"
  },
  "language_info": {
   "codemirror_mode": {
    "name": "ipython",
    "version": 3
   },
   "file_extension": ".py",
   "mimetype": "text/x-python",
   "name": "python",
   "nbconvert_exporter": "python",
   "pygments_lexer": "ipython3",
   "version": "3.11.3"
  }
 },
 "nbformat": 4,
 "nbformat_minor": 5
}
